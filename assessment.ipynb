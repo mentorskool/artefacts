{
  "nbformat": 4,
  "nbformat_minor": 0,
  "metadata": {
    "colab": {
      "name": "assessment.ipynb",
      "provenance": [],
      "collapsed_sections": [],
      "include_colab_link": true
    },
    "kernelspec": {
      "name": "python3",
      "display_name": "Python 3"
    }
  },
  "cells": [
    {
      "cell_type": "markdown",
      "metadata": {
        "id": "view-in-github",
        "colab_type": "text"
      },
      "source": [
        "<a href=\"https://colab.research.google.com/github/mentorskool/assessments/blob/master/assessment.ipynb\" target=\"_parent\"><img src=\"https://colab.research.google.com/assets/colab-badge.svg\" alt=\"Open In Colab\"/></a>"
      ]
    },
    {
      "cell_type": "code",
      "metadata": {
        "id": "QTSsCznS1ef9",
        "colab_type": "code",
        "outputId": "94a2bf5f-ff77-4bf0-ba2e-9b784f30bca3",
        "cellView": "form",
        "colab": {
          "base_uri": "https://localhost:8080/",
          "height": 58
        }
      },
      "source": [
        "#@title \n",
        "%%html\n",
        "<marquee style='width: 100%; color: #4788f4;font-size:30px;'><b>Welcome to Mentorskool!</b></marquee>"
      ],
      "execution_count": 0,
      "outputs": [
        {
          "output_type": "display_data",
          "data": {
            "text/html": [
              "<marquee style='width: 100%; color: #4788f4;font-size:30px;'><b>Welcome to Mentorskool!</b></marquee>"
            ],
            "text/plain": [
              "<IPython.core.display.HTML object>"
            ]
          },
          "metadata": {
            "tags": []
          }
        }
      ]
    },
    {
      "cell_type": "markdown",
      "metadata": {
        "id": "69ivq1jQk6aF",
        "colab_type": "text"
      },
      "source": [
        "## **01. Before you begin**\n",
        "---------------"
      ]
    },
    {
      "cell_type": "code",
      "metadata": {
        "id": "AoRnVvtZAvDj",
        "colab_type": "code",
        "colab": {}
      },
      "source": [
        "# Execute the code below to record your start time!\n",
        "\n",
        "import time;\n",
        "start_time = time.time()"
      ],
      "execution_count": 0,
      "outputs": []
    },
    {
      "cell_type": "markdown",
      "metadata": {
        "id": "nPPR2W7RglKK",
        "colab_type": "text"
      },
      "source": [
        "## **02. Problem Statement**\n",
        "---------------\n",
        "Airlines always run on tight schedules and very thin operating margins.To top this, the customers are extremely demanding expecting their flights to be on time always.Airline carriers try to overcome this challenge by detailed planning and prompt execution. However, there are factors like weather, technical glitches, unexpected challenges at airports which end up causing delay in arrival or departure of aircrafts. Since, the flights hop multiple cities any delay caused at one nodal city adds up and results in significant delays in subsequent stoppages if not taken care of early"
      ]
    },
    {
      "cell_type": "markdown",
      "metadata": {
        "id": "Pe7BPguhS8eq",
        "colab_type": "text"
      },
      "source": [
        "## **03. Reference datasets/files**\n",
        "----------------\n",
        "You will require below datasets/files to answer questions which follow\n",
        "1. airline-performance.csv : [Here](https://raw.githubusercontent.com/mentorskool/assessments/master/airline-performance.csv)\n",
        "2. air-carrier-details.csv : [Here](https://raw.githubusercontent.com/mentorskool/assessments/master/air-carrier-details.csv)\n",
        "3. airports.csv : [Here](https://raw.githubusercontent.com/mentorskool/assessments/master/airports.csv)\n",
        "4. data-01.html : [Here](https://raw.githubusercontent.com/mentorskool/assessments/master/data-01.html)"
      ]
    },
    {
      "cell_type": "markdown",
      "metadata": {
        "id": "I18Y4A1HgG0H",
        "colab_type": "text"
      },
      "source": [
        "## **04. Questions**\n",
        "---------------"
      ]
    },
    {
      "cell_type": "code",
      "metadata": {
        "id": "lygM75J4vD-w",
        "colab_type": "code",
        "colab": {},
        "cellView": "form"
      },
      "source": [
        "#@markdown #### **Question 1 (5 points)**\n",
        "Score = 0 #@param {type:\"integer\"}"
      ],
      "execution_count": 0,
      "outputs": []
    },
    {
      "cell_type": "markdown",
      "metadata": {
        "id": "kVRYiJzvvP62",
        "colab_type": "text"
      },
      "source": [
        "* How many total records are there in **airline-performance.csv** dataset<br>"
      ]
    },
    {
      "cell_type": "code",
      "metadata": {
        "id": "gqA7d6erhYs5",
        "colab_type": "code",
        "colab": {}
      },
      "source": [
        "## Type your code here\n",
        "## Sample Output should be as follows : \n",
        "## The total number of records in the dataset : 240\n",
        "\n"
      ],
      "execution_count": 0,
      "outputs": []
    },
    {
      "cell_type": "markdown",
      "metadata": {
        "id": "Jlmbc1FlwEb6",
        "colab_type": "text"
      },
      "source": [
        "-------------"
      ]
    },
    {
      "cell_type": "code",
      "metadata": {
        "id": "vaMZ1vqBvgLG",
        "colab_type": "code",
        "colab": {},
        "cellView": "form"
      },
      "source": [
        "#@markdown #### **Question 2 (5 points)**\n",
        "Score = 0 #@param {type:\"integer\""
      ],
      "execution_count": 0,
      "outputs": []
    },
    {
      "cell_type": "markdown",
      "metadata": {
        "id": "RHvDoVgUsuTV",
        "colab_type": "text"
      },
      "source": [
        "2.1) Which airline carrier is **busiest** overall? <br>\n",
        "2.2) Define a suitable metric for the term **busy** here. (Use the data already provided)\n",
        "> Example of a metric : Profits = Revenue - Costs\n",
        "\n",
        "\n"
      ]
    },
    {
      "cell_type": "markdown",
      "metadata": {
        "id": "F5ltE2LTwknr",
        "colab_type": "text"
      },
      "source": [
        "* Double click here to start typing answer for **question 2.2** \n",
        "\n",
        "\n",
        " "
      ]
    },
    {
      "cell_type": "code",
      "metadata": {
        "id": "UM22PAnIuWdI",
        "colab_type": "code",
        "colab": {}
      },
      "source": [
        "# Type code here for question 2.1 here :\n"
      ],
      "execution_count": 0,
      "outputs": []
    },
    {
      "cell_type": "markdown",
      "metadata": {
        "id": "zboXiyk5wscq",
        "colab_type": "text"
      },
      "source": [
        "--------------"
      ]
    },
    {
      "cell_type": "code",
      "metadata": {
        "id": "0KOQXpTswuoJ",
        "colab_type": "code",
        "colab": {},
        "cellView": "form"
      },
      "source": [
        "#@markdown #### **Question 3 (5 points)**\n",
        "Score = 0 #@param {type:\"integer\"}"
      ],
      "execution_count": 0,
      "outputs": []
    },
    {
      "cell_type": "markdown",
      "metadata": {
        "id": "omBSvQYikDdU",
        "colab_type": "text"
      },
      "source": [
        "* How many columns have missing values in **airline-performance.csv** dataset?"
      ]
    },
    {
      "cell_type": "code",
      "metadata": {
        "id": "koRf2sl9kV-O",
        "colab_type": "code",
        "colab": {}
      },
      "source": [
        "## Type your code here\n",
        "## Output should be a list of column names\n"
      ],
      "execution_count": 0,
      "outputs": []
    },
    {
      "cell_type": "markdown",
      "metadata": {
        "id": "eC5MmN8v1KI8",
        "colab_type": "text"
      },
      "source": [
        "--------------"
      ]
    },
    {
      "cell_type": "code",
      "metadata": {
        "id": "-6s6VFAUxc3C",
        "colab_type": "code",
        "colab": {},
        "cellView": "form"
      },
      "source": [
        "#@markdown #### **Question 4 (5 points)**\n",
        "Score = 0 #@param {type:\"integer\"}"
      ],
      "execution_count": 0,
      "outputs": []
    },
    {
      "cell_type": "markdown",
      "metadata": {
        "id": "IIqPA3BmyPVc",
        "colab_type": "text"
      },
      "source": [
        "* Considering that we want to drop all columns which have less than **50%** data, which all columns should be dropped?\n",
        "  * Write code to filter out columns having less than 50% data\n",
        "  * Write code to print the filtered out columns as a list"
      ]
    },
    {
      "cell_type": "code",
      "metadata": {
        "id": "T4ahL4spyrP_",
        "colab_type": "code",
        "colab": {}
      },
      "source": [
        "## Type your code here\n"
      ],
      "execution_count": 0,
      "outputs": []
    },
    {
      "cell_type": "markdown",
      "metadata": {
        "id": "Dot2xCYP1Lxy",
        "colab_type": "text"
      },
      "source": [
        "----------------"
      ]
    },
    {
      "cell_type": "code",
      "metadata": {
        "id": "jBTqQChExhQq",
        "colab_type": "code",
        "colab": {},
        "cellView": "form"
      },
      "source": [
        "#@markdown #### **Question 5 (5 points)**\n",
        "Score = 0 #@param {type:\"integer\"}"
      ],
      "execution_count": 0,
      "outputs": []
    },
    {
      "cell_type": "markdown",
      "metadata": {
        "id": "WHhcd_3f40Pl",
        "colab_type": "text"
      },
      "source": [
        "* Visualize the columns having more than 20% data in a bar-chart (Show **top 10** columns ordered by **% of data available descending**) <br>\n",
        "   *Note : You can use matplotlib/seaborn for the same*"
      ]
    },
    {
      "cell_type": "code",
      "metadata": {
        "id": "xOY6nFNL54VF",
        "colab_type": "code",
        "colab": {}
      },
      "source": [
        "## Type your code here\n"
      ],
      "execution_count": 0,
      "outputs": []
    },
    {
      "cell_type": "markdown",
      "metadata": {
        "id": "xOMTN-Ls1OeP",
        "colab_type": "text"
      },
      "source": [
        "-------------"
      ]
    },
    {
      "cell_type": "code",
      "metadata": {
        "id": "uUsOwsLT1P6U",
        "colab_type": "code",
        "colab": {},
        "cellView": "form"
      },
      "source": [
        "#@markdown #### **Question 6 (10 points)**\n",
        "Score = 0 #@param {type:\"integer\""
      ],
      "execution_count": 0,
      "outputs": []
    },
    {
      "cell_type": "markdown",
      "metadata": {
        "id": "m6lcUMlf7_Cx",
        "colab_type": "text"
      },
      "source": [
        "\n",
        "* Which city is busiest in terms of traffic? <br>\n",
        "  **6.1)** Define a suitable metric to define traffic at an airport <br>\n",
        "  **6.2)** Write code to print the result\n",
        "  * Please note that you need to print out the **city names** against the traffic number and not just the airport name. <br>\n",
        "  Ex. an airport name entry looks like : **New York, NY: John F Kennedy International**. The city name from this entry is **New York**\n"
      ]
    },
    {
      "cell_type": "markdown",
      "metadata": {
        "id": "w94fklmz900T",
        "colab_type": "text"
      },
      "source": [
        "* Double click here to start typing answer for **question 6.1** \n",
        "\n",
        "\n",
        " "
      ]
    },
    {
      "cell_type": "code",
      "metadata": {
        "id": "brWA7UPp9FYz",
        "colab_type": "code",
        "colab": {}
      },
      "source": [
        "## Type your code here\n"
      ],
      "execution_count": 0,
      "outputs": []
    },
    {
      "cell_type": "markdown",
      "metadata": {
        "id": "_Id1SOnR1XkJ",
        "colab_type": "text"
      },
      "source": [
        "----------------"
      ]
    },
    {
      "cell_type": "code",
      "metadata": {
        "id": "_gtyvZ5P1b30",
        "colab_type": "code",
        "colab": {},
        "cellView": "form"
      },
      "source": [
        "#@markdown #### **Question 7 (5 points)**\n",
        "Score = 0 #@param {type:\"integer\""
      ],
      "execution_count": 0,
      "outputs": []
    },
    {
      "cell_type": "markdown",
      "metadata": {
        "id": "4AliOqju8EPM",
        "colab_type": "text"
      },
      "source": [
        "\n",
        "* Are weekends **busier** than weekdays?\n",
        "  * Think about techniques you will use to validate this hypothesis backed with data"
      ]
    },
    {
      "cell_type": "markdown",
      "metadata": {
        "id": "ByHsoKtd_X_a",
        "colab_type": "text"
      },
      "source": [
        "* Explain the technique you employed to answer the question above (**Double click here to star**t)"
      ]
    },
    {
      "cell_type": "code",
      "metadata": {
        "id": "57W8pHqF_hur",
        "colab_type": "code",
        "colab": {}
      },
      "source": [
        "## Type your code here\n"
      ],
      "execution_count": 0,
      "outputs": []
    },
    {
      "cell_type": "markdown",
      "metadata": {
        "id": "AzU0adx51ZKG",
        "colab_type": "text"
      },
      "source": [
        "------------------"
      ]
    },
    {
      "cell_type": "code",
      "metadata": {
        "id": "wVqi1mdA1ff8",
        "colab_type": "code",
        "colab": {},
        "cellView": "form"
      },
      "source": [
        "#@markdown #### **Question 8 (5 points)**\n",
        "Score = 0 #@param {type:\"integer\""
      ],
      "execution_count": 0,
      "outputs": []
    },
    {
      "cell_type": "markdown",
      "metadata": {
        "id": "xixShdg58GgS",
        "colab_type": "text"
      },
      "source": [
        "\n",
        "* **Longer duration** flights have a larger tendency to have **arrival delays**. Analyze the hypothesis with appropriate visuals"
      ]
    },
    {
      "cell_type": "code",
      "metadata": {
        "id": "YhFWIe66_zP8",
        "colab_type": "code",
        "colab": {}
      },
      "source": [
        "## Type your code here"
      ],
      "execution_count": 0,
      "outputs": []
    },
    {
      "cell_type": "markdown",
      "metadata": {
        "id": "ERz3hK-j1mE4",
        "colab_type": "text"
      },
      "source": [
        "---------------"
      ]
    },
    {
      "cell_type": "code",
      "metadata": {
        "id": "IoZpA_wf1v5b",
        "colab_type": "code",
        "colab": {},
        "cellView": "form"
      },
      "source": [
        "#@markdown #### **Question 9 (20 points)**\n",
        "Score = 0 #@param {type:\"integer\"}"
      ],
      "execution_count": 0,
      "outputs": []
    },
    {
      "cell_type": "markdown",
      "metadata": {
        "id": "YYzgK2Bn8JPd",
        "colab_type": "text"
      },
      "source": [
        "\n",
        "* How many aircraft carriers have delivered **more than 80% of the trips** rated **Excellent or Good**?\n",
        "* (Print both count as well as the list of aircraft carriers)\n",
        "* **Definitions :**\n",
        "  * **Aircraft carrier :** Represented by the column **UniqueCarrierName** in the table **airline-performance**\n",
        "  * **Trip Performance (%)(of a given carrier) :** (No. of trips rated **Excellent**) + (No. of trips rated **Good**) / (Total No. of trips made by the carrier)\n",
        "  * **Trip Rating :** Rating given to a trip decided by the below logic :\n",
        "    * Any flight departing more than **15 minutes** later than the scheduled departure time is labeled as **Late Departure** else labeled as **On Time Departure**\n",
        "    * Any flight arriving more than **15 minutes** later than the scheduled arrival time is labeled as **Late Arrival** else labeled as **On Time Arrival**\n",
        "  * Based on the above logic **Trip Rating** is decided as below : \n",
        "     * If the aircraft both departs and arrives on time then **Excellent**\n",
        "     * If the aircraft departs late but arrives on time then **Good**\n",
        "     * If the aircraft departs on time but arrives late then **Bad**\n",
        "     * Else, **Worst** \n",
        "\n",
        "\n"
      ]
    },
    {
      "cell_type": "code",
      "metadata": {
        "id": "Xh1YmjOQE1Cv",
        "colab_type": "code",
        "colab": {}
      },
      "source": [
        "## Type your code here\n"
      ],
      "execution_count": 0,
      "outputs": []
    },
    {
      "cell_type": "markdown",
      "metadata": {
        "id": "QkAD3TLa10Z9",
        "colab_type": "text"
      },
      "source": [
        "------------"
      ]
    },
    {
      "cell_type": "code",
      "metadata": {
        "id": "qoGhe_Lm117i",
        "colab_type": "code",
        "colab": {},
        "cellView": "form"
      },
      "source": [
        "#@markdown #### **Question 10 (10 points)**\n",
        "Score = 0 #@param {type:\"integer\"}"
      ],
      "execution_count": 0,
      "outputs": []
    },
    {
      "cell_type": "markdown",
      "metadata": {
        "id": "F-j6IfPY8Ncb",
        "colab_type": "text"
      },
      "source": [
        "\n",
        "* Consider the file data-01.html (Refer the datasets section)\n",
        "* Extract the html table data and represent in the form of a dataframe\n",
        "* Output dataframe should look like [this](https://github.com/mentorskool/assessments/blob/master/Q10.png)\n",
        "* Use **Scrapy** or **BeautifulSoup** for this question"
      ]
    },
    {
      "cell_type": "code",
      "metadata": {
        "id": "5aR1vKJLGbmQ",
        "colab_type": "code",
        "colab": {}
      },
      "source": [
        "## Type your code here\n"
      ],
      "execution_count": 0,
      "outputs": []
    },
    {
      "cell_type": "markdown",
      "metadata": {
        "id": "JCdhcJhM1413",
        "colab_type": "text"
      },
      "source": [
        "------------"
      ]
    },
    {
      "cell_type": "code",
      "metadata": {
        "id": "eqtPPj6k169_",
        "colab_type": "code",
        "colab": {},
        "cellView": "form"
      },
      "source": [
        "#@markdown #### **Question 11 (20 points)**\n",
        "Score = 0 #@param {type:\"integer\"}"
      ],
      "execution_count": 0,
      "outputs": []
    },
    {
      "cell_type": "markdown",
      "metadata": {
        "id": "yP8fd3BJLBy7",
        "colab_type": "text"
      },
      "source": [
        "\n",
        "* Consider the URL : https://www.imdb.com/list/ls068082370/\n",
        "* You are required to extract the below information from the website : \n",
        "  * Movie Name\n",
        "  * Its duration\n",
        "  * Star Rating\n",
        "* The above information should be stored in a dataframe\n",
        "* Use **Scrapy** or **BeautifulSoup** for this question"
      ]
    },
    {
      "cell_type": "code",
      "metadata": {
        "id": "0VdYeZkHLc52",
        "colab_type": "code",
        "colab": {}
      },
      "source": [
        "## Type your code here\n"
      ],
      "execution_count": 0,
      "outputs": []
    },
    {
      "cell_type": "markdown",
      "metadata": {
        "id": "iHh2g3Y11-7i",
        "colab_type": "text"
      },
      "source": [
        "------------"
      ]
    },
    {
      "cell_type": "code",
      "metadata": {
        "id": "uzMGE3mS2FfS",
        "colab_type": "code",
        "colab": {},
        "cellView": "form"
      },
      "source": [
        "#@markdown #### **Question 12 (15 points)**\n",
        "Score = 0 #@param {type:\"integer\"\n",
        "#@markdown Head towards [this](https://docs.google.com/forms/d/e/1FAIpQLScqgZ45T42XGluXAGysm9OMl4c-sZHmvxXP2syIHR46c9HZXw/viewform?embedded=true) link to attempt an MCQ testing your SQL skills\n",
        "# -----------"
      ],
      "execution_count": 0,
      "outputs": []
    },
    {
      "cell_type": "markdown",
      "metadata": {
        "id": "hAlh0mlhlHus",
        "colab_type": "text"
      },
      "source": [
        "## **05. Before you exit**\n",
        "---------------"
      ]
    },
    {
      "cell_type": "code",
      "metadata": {
        "id": "SGinRY-uA7rc",
        "colab_type": "code",
        "colab": {}
      },
      "source": [
        "# Execute the code below to record your end time\n",
        "\n",
        "import time;\n",
        "end_time = time.time()"
      ],
      "execution_count": 0,
      "outputs": []
    },
    {
      "cell_type": "code",
      "metadata": {
        "id": "KovY4DYnBEVr",
        "colab_type": "code",
        "colab": {}
      },
      "source": [
        "# Execute the code below to record your test duration\n",
        "print(end_time - start_time)"
      ],
      "execution_count": 0,
      "outputs": []
    }
  ]
}