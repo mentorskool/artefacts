{
  "nbformat": 4,
  "nbformat_minor": 0,
  "metadata": {
    "colab": {
      "name": "learnbook-01.ipynb",
      "provenance": [],
      "collapsed_sections": [],
      "toc_visible": true,
      "include_colab_link": true
    },
    "kernelspec": {
      "name": "python3",
      "display_name": "Python 3"
    }
  },
  "cells": [
    {
      "cell_type": "markdown",
      "metadata": {
        "id": "view-in-github",
        "colab_type": "text"
      },
      "source": [
        "<a href=\"https://colab.research.google.com/github/mentorskool/assessments/blob/master/learnbook_01.ipynb\" target=\"_parent\"><img src=\"https://colab.research.google.com/assets/colab-badge.svg\" alt=\"Open In Colab\"/></a>"
      ]
    },
    {
      "cell_type": "code",
      "metadata": {
        "id": "QTSsCznS1ef9",
        "colab_type": "code",
        "outputId": "94a2bf5f-ff77-4bf0-ba2e-9b784f30bca3",
        "cellView": "form",
        "colab": {
          "base_uri": "https://localhost:8080/",
          "height": 58
        }
      },
      "source": [
        "#@title \n",
        "%%html\n",
        "<marquee style='width: 100%; color: #4788f4;font-size:30px;'><b>Welcome to Mentorskool!</b></marquee>"
      ],
      "execution_count": 0,
      "outputs": [
        {
          "output_type": "display_data",
          "data": {
            "text/html": [
              "<marquee style='width: 100%; color: #4788f4;font-size:30px;'><b>Welcome to Mentorskool!</b></marquee>"
            ],
            "text/plain": [
              "<IPython.core.display.HTML object>"
            ]
          },
          "metadata": {
            "tags": []
          }
        }
      ]
    },
    {
      "cell_type": "markdown",
      "metadata": {
        "id": "Bd-Z7gBs0LbI",
        "colab_type": "text"
      },
      "source": [
        "## **MentorClass - 01 | Understanding your Data**\n",
        "-----\n",
        "We'll be working on below topics in this class :\n",
        "\n",
        "* What do you mean by granularity of data?\n",
        "* Is redundancy of data a problem?\n",
        "* How to tackle redundancy?\n",
        "* Concept of normalization\n",
        "* Advantages of normalization\n",
        "* Drawbacks of normalization\n"
      ]
    },
    {
      "cell_type": "markdown",
      "metadata": {
        "id": "4dE1wXIc7E0D",
        "colab_type": "text"
      },
      "source": [
        "## **01.Structured Data**\n",
        "---------\n",
        "* Structured data looks like a **table** which is a collection of **rows** and **columns**"
      ]
    },
    {
      "cell_type": "markdown",
      "metadata": {
        "id": "xLQLtqPDyj0R",
        "colab_type": "text"
      },
      "source": [
        "## **02.Problem of Data Redundancy**\n",
        "---------\n",
        "* Redundancy means repetition of data many times in a table\n",
        "* Redundancy was a big problem in the early stages of database development (during 1970s) when storage space was a big luxury!\n",
        "* Let's see an example [here](https://docs.google.com/spreadsheets/d/1rTF1uwbFOnptpNFjaRDzaS2ylDTryv2d2jATqVRZ5ys/edit?usp=sharing) to understand the scenarios where redundancy can occur in structured data"
      ]
    },
    {
      "cell_type": "markdown",
      "metadata": {
        "id": "x5inQ-BGSCyB",
        "colab_type": "text"
      },
      "source": [
        "## **03.Tackling Redundancy**\n",
        "---------\n",
        "* Normalization is the way out\n",
        "* Other than tackling redundancy, it also helps taking care of the below 3 issues : \n",
        "  * **Insertion Anomaly**\n",
        "  * **Deletion Anomaly**\n",
        "  * **Updation Anomaly**\n",
        "\n",
        "Take some time out and go through the below video to understand why redundancy is a problem and how the above anomalies lead to issues.\n",
        "\n",
        " <font size=\"3\" color=\"green\"><b>Credits : </b></font>[**Studytonight Channel**](https://www.youtube.com/channel/UCURY4RZois483CPY8prhx7g) for a superb series of videos which I'll refer for in this classroom.\n",
        "\n",
        "<font size=\"8\" color=\"#00a7f4\"><b>Big Thanks!</font>\n",
        "\n",
        "![image](https://encrypted-tbn0.gstatic.com/images?q=tbn:ANd9GcSDX2DwazFwq36s33kZKDTffm_uIWLQP2ULcmsPs7YafsKoCaUe&s)"
      ]
    },
    {
      "cell_type": "code",
      "metadata": {
        "id": "VVRryAo4Oz1t",
        "colab_type": "code",
        "colab": {
          "base_uri": "https://localhost:8080/",
          "height": 421
        },
        "cellView": "form",
        "outputId": "ca5ed3e5-e2b4-411c-99ad-89ce54cc69f1"
      },
      "source": [
        "#@title Understanding Normalization\n",
        "from IPython.display import YouTubeVideo\n",
        "# a talk about IPython at Sage Days at U. Washington, Seattle.\n",
        "# Video credit: William Stein.\n",
        "YouTubeVideo('xoTyrdT9SZI',width=800, height=400)"
      ],
      "execution_count": 9,
      "outputs": [
        {
          "output_type": "execute_result",
          "data": {
            "text/html": [
              "\n",
              "        <iframe\n",
              "            width=\"800\"\n",
              "            height=\"400\"\n",
              "            src=\"https://www.youtube.com/embed/xoTyrdT9SZI\"\n",
              "            frameborder=\"0\"\n",
              "            allowfullscreen\n",
              "        ></iframe>\n",
              "        "
            ],
            "text/plain": [
              "<IPython.lib.display.YouTubeVideo at 0x7f81c0986f28>"
            ],
            "image/jpeg": "[encoded data removed]"
          },
          "metadata": {
            "tags": []
          },
          "execution_count": 9
        }
      ]
    },
    {
      "cell_type": "code",
      "metadata": {
        "id": "gD_7yKBvyiBk",
        "colab_type": "code",
        "colab": {}
      },
      "source": [
        ""
      ],
      "execution_count": 0,
      "outputs": []
    }
  ]
}